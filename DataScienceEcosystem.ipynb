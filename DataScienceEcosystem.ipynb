{
 "cells": [
  {
   "cell_type": "markdown",
   "id": "583e8829",
   "metadata": {},
   "source": [
    "# Data Science Tools and Ecosystem"
   ]
  },
  {
   "cell_type": "markdown",
   "id": "f8e86f06",
   "metadata": {},
   "source": [
    "In this notebook, we summarize data science tools and the overall data science ecosystem"
   ]
  },
  {
   "cell_type": "markdown",
   "id": "1b905118",
   "metadata": {},
   "source": [
    "**Objectives**\n",
    "- List popular languages for data science\n",
    "- List popular libraries commonly used in data science\n",
    "- List popular data science IDEs (integrated development environments)"
   ]
  },
  {
   "cell_type": "markdown",
   "id": "621e571d",
   "metadata": {},
   "source": [
    "Some of the popular languages that data scientists use include:\n",
    "1. Python\n",
    "2. R\n",
    "3. Scala\n",
    "4. Julia"
   ]
  },
  {
   "cell_type": "raw",
   "id": "d18251c8",
   "metadata": {},
   "source": [
    "Some of the libraries commonly used by data scientists include:\n",
    "1. Pandas\n",
    "2. SciPy\n",
    "3. Matplotlib\n",
    "4. NumPy"
   ]
  },
  {
   "cell_type": "markdown",
   "id": "bb22d467",
   "metadata": {},
   "source": [
    "Data Science Tools |\n",
    "-- |\n",
    "Jupyter Notebooks |\n",
    "RStudio |\n",
    "Spyder |"
   ]
  },
  {
   "cell_type": "markdown",
   "id": "1206fabc",
   "metadata": {},
   "source": [
    "### Please find a couple examples of arithmetic expressions in Python below:"
   ]
  },
  {
   "cell_type": "code",
   "execution_count": 4,
   "id": "78f6e11d",
   "metadata": {},
   "outputs": [
    {
     "data": {
      "text/plain": [
       "17"
      ]
     },
     "execution_count": 4,
     "metadata": {},
     "output_type": "execute_result"
    }
   ],
   "source": [
    "#Here's some simple multiplication and addition of integers for you\n",
    "(3*4)+5"
   ]
  },
  {
   "cell_type": "code",
   "execution_count": 5,
   "id": "5a848d70",
   "metadata": {},
   "outputs": [
    {
     "data": {
      "text/plain": [
       "3.3333333333333335"
      ]
     },
     "execution_count": 5,
     "metadata": {},
     "output_type": "execute_result"
    }
   ],
   "source": [
    "#We can even convert 200 minutes into hours by dividing by 60!\n",
    "200/60"
   ]
  },
  {
   "cell_type": "markdown",
   "id": "4cd31d02",
   "metadata": {},
   "source": [
    "## Author\n",
    "Matt Peterson"
   ]
  }
 ],
 "metadata": {
  "kernelspec": {
   "display_name": "Python 3 (ipykernel)",
   "language": "python",
   "name": "python3"
  },
  "language_info": {
   "codemirror_mode": {
    "name": "ipython",
    "version": 3
   },
   "file_extension": ".py",
   "mimetype": "text/x-python",
   "name": "python",
   "nbconvert_exporter": "python",
   "pygments_lexer": "ipython3",
   "version": "3.11.7"
  }
 },
 "nbformat": 4,
 "nbformat_minor": 5
}
